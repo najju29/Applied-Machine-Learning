{
 "cells": [
  {
   "cell_type": "markdown",
   "metadata": {},
   "source": [
    "## Boosting: Fit and evaluate a model\n",
    "\n",
    "Using the Titanic dataset from [this](https://www.kaggle.com/c/titanic/overview) Kaggle competition.\n",
    "\n",
    "In this section, we will fit and evaluate a simple Gradient Boosting model."
   ]
  },
  {
   "cell_type": "markdown",
   "metadata": {},
   "source": [
    "### Read in Data"
   ]
  },
  {
   "cell_type": "code",
   "execution_count": 2,
   "metadata": {},
   "outputs": [
    {
     "name": "stdout",
     "output_type": "stream",
     "text": [
      "Import completed\n"
     ]
    }
   ],
   "source": [
    "import joblib\n",
    "import pandas as pd\n",
    "from sklearn.ensemble import GradientBoostingClassifier\n",
    "from sklearn.model_selection import GridSearchCV\n",
    "import warnings\n",
    "warnings.filterwarnings('ignore', category=FutureWarning)\n",
    "warnings.filterwarnings('ignore', category=DeprecationWarning)\n",
    "\n",
    "tr_features = pd.read_csv('../dataset/train_features.csv')\n",
    "tr_labels = pd.read_csv('../dataset/train_labels.csv', header=None)\n",
    "\n",
    "print(\"Import completed\")"
   ]
  },
  {
   "cell_type": "markdown",
   "metadata": {},
   "source": [
    "### Hyperparameter tuning"
   ]
  },
  {
   "cell_type": "code",
   "execution_count": 3,
   "metadata": {},
   "outputs": [],
   "source": [
    "def print_results(results):\n",
    "    print('BEST PARAMS: {}\\n'.format(results.best_params_))\n",
    "\n",
    "    means = results.cv_results_['mean_test_score']\n",
    "    stds = results.cv_results_['std_test_score']\n",
    "    for mean, std, params in zip(means, stds, results.cv_results_['params']):\n",
    "        print('{} (+/-{}) for {}'.format(round(mean, 3), round(std * 2, 3), params))"
   ]
  },
  {
   "cell_type": "code",
   "execution_count": 4,
   "metadata": {},
   "outputs": [
    {
     "name": "stdout",
     "output_type": "stream",
     "text": [
      "BEST PARAMS: {'learning_rate': 0.01, 'max_depth': 3, 'n_estimators': 500}\n",
      "\n",
      "0.624 (+/-0.005) for {'learning_rate': 0.01, 'max_depth': 1, 'n_estimators': 5}\n",
      "0.796 (+/-0.116) for {'learning_rate': 0.01, 'max_depth': 1, 'n_estimators': 50}\n",
      "0.796 (+/-0.116) for {'learning_rate': 0.01, 'max_depth': 1, 'n_estimators': 250}\n",
      "0.811 (+/-0.118) for {'learning_rate': 0.01, 'max_depth': 1, 'n_estimators': 500}\n",
      "0.624 (+/-0.005) for {'learning_rate': 0.01, 'max_depth': 3, 'n_estimators': 5}\n",
      "0.811 (+/-0.071) for {'learning_rate': 0.01, 'max_depth': 3, 'n_estimators': 50}\n",
      "0.826 (+/-0.082) for {'learning_rate': 0.01, 'max_depth': 3, 'n_estimators': 250}\n",
      "0.828 (+/-0.083) for {'learning_rate': 0.01, 'max_depth': 3, 'n_estimators': 500}\n",
      "0.624 (+/-0.005) for {'learning_rate': 0.01, 'max_depth': 5, 'n_estimators': 5}\n",
      "0.811 (+/-0.051) for {'learning_rate': 0.01, 'max_depth': 5, 'n_estimators': 50}\n",
      "0.82 (+/-0.056) for {'learning_rate': 0.01, 'max_depth': 5, 'n_estimators': 250}\n",
      "0.815 (+/-0.051) for {'learning_rate': 0.01, 'max_depth': 5, 'n_estimators': 500}\n",
      "0.624 (+/-0.005) for {'learning_rate': 0.01, 'max_depth': 7, 'n_estimators': 5}\n",
      "0.816 (+/-0.055) for {'learning_rate': 0.01, 'max_depth': 7, 'n_estimators': 50}\n",
      "0.809 (+/-0.038) for {'learning_rate': 0.01, 'max_depth': 7, 'n_estimators': 250}\n",
      "0.796 (+/-0.018) for {'learning_rate': 0.01, 'max_depth': 7, 'n_estimators': 500}\n",
      "0.624 (+/-0.005) for {'learning_rate': 0.01, 'max_depth': 9, 'n_estimators': 5}\n",
      "0.794 (+/-0.05) for {'learning_rate': 0.01, 'max_depth': 9, 'n_estimators': 50}\n",
      "0.777 (+/-0.041) for {'learning_rate': 0.01, 'max_depth': 9, 'n_estimators': 250}\n",
      "0.772 (+/-0.039) for {'learning_rate': 0.01, 'max_depth': 9, 'n_estimators': 500}\n",
      "0.796 (+/-0.116) for {'learning_rate': 0.1, 'max_depth': 1, 'n_estimators': 5}\n",
      "0.815 (+/-0.12) for {'learning_rate': 0.1, 'max_depth': 1, 'n_estimators': 50}\n",
      "0.818 (+/-0.109) for {'learning_rate': 0.1, 'max_depth': 1, 'n_estimators': 250}\n",
      "0.816 (+/-0.119) for {'learning_rate': 0.1, 'max_depth': 1, 'n_estimators': 500}\n",
      "0.813 (+/-0.073) for {'learning_rate': 0.1, 'max_depth': 3, 'n_estimators': 5}\n",
      "0.824 (+/-0.08) for {'learning_rate': 0.1, 'max_depth': 3, 'n_estimators': 50}\n",
      "0.811 (+/-0.037) for {'learning_rate': 0.1, 'max_depth': 3, 'n_estimators': 250}\n",
      "0.79 (+/-0.054) for {'learning_rate': 0.1, 'max_depth': 3, 'n_estimators': 500}\n",
      "0.807 (+/-0.057) for {'learning_rate': 0.1, 'max_depth': 5, 'n_estimators': 5}\n",
      "0.818 (+/-0.05) for {'learning_rate': 0.1, 'max_depth': 5, 'n_estimators': 50}\n",
      "0.803 (+/-0.057) for {'learning_rate': 0.1, 'max_depth': 5, 'n_estimators': 250}\n",
      "0.798 (+/-0.06) for {'learning_rate': 0.1, 'max_depth': 5, 'n_estimators': 500}\n",
      "0.815 (+/-0.043) for {'learning_rate': 0.1, 'max_depth': 7, 'n_estimators': 5}\n",
      "0.798 (+/-0.01) for {'learning_rate': 0.1, 'max_depth': 7, 'n_estimators': 50}\n",
      "0.8 (+/-0.037) for {'learning_rate': 0.1, 'max_depth': 7, 'n_estimators': 250}\n",
      "0.794 (+/-0.041) for {'learning_rate': 0.1, 'max_depth': 7, 'n_estimators': 500}\n",
      "0.794 (+/-0.045) for {'learning_rate': 0.1, 'max_depth': 9, 'n_estimators': 5}\n",
      "0.781 (+/-0.02) for {'learning_rate': 0.1, 'max_depth': 9, 'n_estimators': 50}\n",
      "0.794 (+/-0.034) for {'learning_rate': 0.1, 'max_depth': 9, 'n_estimators': 250}\n",
      "0.796 (+/-0.036) for {'learning_rate': 0.1, 'max_depth': 9, 'n_estimators': 500}\n",
      "0.818 (+/-0.1) for {'learning_rate': 1, 'max_depth': 1, 'n_estimators': 5}\n",
      "0.822 (+/-0.085) for {'learning_rate': 1, 'max_depth': 1, 'n_estimators': 50}\n",
      "0.818 (+/-0.061) for {'learning_rate': 1, 'max_depth': 1, 'n_estimators': 250}\n",
      "0.798 (+/-0.062) for {'learning_rate': 1, 'max_depth': 1, 'n_estimators': 500}\n",
      "0.811 (+/-0.064) for {'learning_rate': 1, 'max_depth': 3, 'n_estimators': 5}\n",
      "0.79 (+/-0.07) for {'learning_rate': 1, 'max_depth': 3, 'n_estimators': 50}\n",
      "0.796 (+/-0.044) for {'learning_rate': 1, 'max_depth': 3, 'n_estimators': 250}\n",
      "0.794 (+/-0.042) for {'learning_rate': 1, 'max_depth': 3, 'n_estimators': 500}\n",
      "0.773 (+/-0.04) for {'learning_rate': 1, 'max_depth': 5, 'n_estimators': 5}\n",
      "0.79 (+/-0.049) for {'learning_rate': 1, 'max_depth': 5, 'n_estimators': 50}\n",
      "0.785 (+/-0.051) for {'learning_rate': 1, 'max_depth': 5, 'n_estimators': 250}\n",
      "0.779 (+/-0.051) for {'learning_rate': 1, 'max_depth': 5, 'n_estimators': 500}\n",
      "0.757 (+/-0.035) for {'learning_rate': 1, 'max_depth': 7, 'n_estimators': 5}\n",
      "0.792 (+/-0.055) for {'learning_rate': 1, 'max_depth': 7, 'n_estimators': 50}\n",
      "0.785 (+/-0.058) for {'learning_rate': 1, 'max_depth': 7, 'n_estimators': 250}\n",
      "0.781 (+/-0.065) for {'learning_rate': 1, 'max_depth': 7, 'n_estimators': 500}\n",
      "0.781 (+/-0.053) for {'learning_rate': 1, 'max_depth': 9, 'n_estimators': 5}\n",
      "0.783 (+/-0.062) for {'learning_rate': 1, 'max_depth': 9, 'n_estimators': 50}\n",
      "0.779 (+/-0.074) for {'learning_rate': 1, 'max_depth': 9, 'n_estimators': 250}\n",
      "0.787 (+/-0.042) for {'learning_rate': 1, 'max_depth': 9, 'n_estimators': 500}\n",
      "0.204 (+/-0.116) for {'learning_rate': 10, 'max_depth': 1, 'n_estimators': 5}\n",
      "0.204 (+/-0.116) for {'learning_rate': 10, 'max_depth': 1, 'n_estimators': 50}\n",
      "0.204 (+/-0.116) for {'learning_rate': 10, 'max_depth': 1, 'n_estimators': 250}\n",
      "0.204 (+/-0.116) for {'learning_rate': 10, 'max_depth': 1, 'n_estimators': 500}\n",
      "0.373 (+/-0.372) for {'learning_rate': 10, 'max_depth': 3, 'n_estimators': 5}\n",
      "0.373 (+/-0.372) for {'learning_rate': 10, 'max_depth': 3, 'n_estimators': 50}\n",
      "0.373 (+/-0.372) for {'learning_rate': 10, 'max_depth': 3, 'n_estimators': 250}\n",
      "0.373 (+/-0.372) for {'learning_rate': 10, 'max_depth': 3, 'n_estimators': 500}\n",
      "0.478 (+/-0.149) for {'learning_rate': 10, 'max_depth': 5, 'n_estimators': 5}\n",
      "0.489 (+/-0.156) for {'learning_rate': 10, 'max_depth': 5, 'n_estimators': 50}\n",
      "0.479 (+/-0.154) for {'learning_rate': 10, 'max_depth': 5, 'n_estimators': 250}\n",
      "0.487 (+/-0.158) for {'learning_rate': 10, 'max_depth': 5, 'n_estimators': 500}\n",
      "0.603 (+/-0.181) for {'learning_rate': 10, 'max_depth': 7, 'n_estimators': 5}\n",
      "0.603 (+/-0.159) for {'learning_rate': 10, 'max_depth': 7, 'n_estimators': 50}\n",
      "0.575 (+/-0.228) for {'learning_rate': 10, 'max_depth': 7, 'n_estimators': 250}\n",
      "0.594 (+/-0.207) for {'learning_rate': 10, 'max_depth': 7, 'n_estimators': 500}\n",
      "0.713 (+/-0.137) for {'learning_rate': 10, 'max_depth': 9, 'n_estimators': 5}\n",
      "0.713 (+/-0.103) for {'learning_rate': 10, 'max_depth': 9, 'n_estimators': 50}\n",
      "0.702 (+/-0.07) for {'learning_rate': 10, 'max_depth': 9, 'n_estimators': 250}\n",
      "0.712 (+/-0.123) for {'learning_rate': 10, 'max_depth': 9, 'n_estimators': 500}\n",
      "0.376 (+/-0.005) for {'learning_rate': 100, 'max_depth': 1, 'n_estimators': 5}\n",
      "0.376 (+/-0.005) for {'learning_rate': 100, 'max_depth': 1, 'n_estimators': 50}\n",
      "0.376 (+/-0.005) for {'learning_rate': 100, 'max_depth': 1, 'n_estimators': 250}\n",
      "0.376 (+/-0.005) for {'learning_rate': 100, 'max_depth': 1, 'n_estimators': 500}\n",
      "0.281 (+/-0.12) for {'learning_rate': 100, 'max_depth': 3, 'n_estimators': 5}\n",
      "0.281 (+/-0.12) for {'learning_rate': 100, 'max_depth': 3, 'n_estimators': 50}\n",
      "0.281 (+/-0.12) for {'learning_rate': 100, 'max_depth': 3, 'n_estimators': 250}\n",
      "0.281 (+/-0.12) for {'learning_rate': 100, 'max_depth': 3, 'n_estimators': 500}\n",
      "0.408 (+/-0.159) for {'learning_rate': 100, 'max_depth': 5, 'n_estimators': 5}\n",
      "0.453 (+/-0.161) for {'learning_rate': 100, 'max_depth': 5, 'n_estimators': 50}\n",
      "0.401 (+/-0.13) for {'learning_rate': 100, 'max_depth': 5, 'n_estimators': 250}\n",
      "0.414 (+/-0.169) for {'learning_rate': 100, 'max_depth': 5, 'n_estimators': 500}\n",
      "0.592 (+/-0.144) for {'learning_rate': 100, 'max_depth': 7, 'n_estimators': 5}\n",
      "0.586 (+/-0.158) for {'learning_rate': 100, 'max_depth': 7, 'n_estimators': 50}\n",
      "0.59 (+/-0.128) for {'learning_rate': 100, 'max_depth': 7, 'n_estimators': 250}\n",
      "0.588 (+/-0.161) for {'learning_rate': 100, 'max_depth': 7, 'n_estimators': 500}\n",
      "0.596 (+/-0.125) for {'learning_rate': 100, 'max_depth': 9, 'n_estimators': 5}\n",
      "0.59 (+/-0.093) for {'learning_rate': 100, 'max_depth': 9, 'n_estimators': 50}\n",
      "0.609 (+/-0.132) for {'learning_rate': 100, 'max_depth': 9, 'n_estimators': 250}\n",
      "0.629 (+/-0.188) for {'learning_rate': 100, 'max_depth': 9, 'n_estimators': 500}\n"
     ]
    }
   ],
   "source": [
    "gb = GradientBoostingClassifier()\n",
    "parameters = {\n",
    "    'n_estimators': [5, 50, 250, 500],\n",
    "    'max_depth': [1, 3, 5, 7, 9],\n",
    "    'learning_rate': [0.01, 0.1, 1, 10, 100]\n",
    "}\n",
    "\n",
    "cv = GridSearchCV(gb, parameters, cv=5)\n",
    "cv.fit(tr_features, tr_labels.values.ravel())\n",
    "\n",
    "print_results(cv)"
   ]
  },
  {
   "cell_type": "code",
   "execution_count": 5,
   "metadata": {},
   "outputs": [
    {
     "data": {
      "text/plain": [
       "GradientBoostingClassifier(criterion='friedman_mse', init=None,\n",
       "              learning_rate=0.01, loss='deviance', max_depth=3,\n",
       "              max_features=None, max_leaf_nodes=None,\n",
       "              min_impurity_decrease=0.0, min_impurity_split=None,\n",
       "              min_samples_leaf=1, min_samples_split=2,\n",
       "              min_weight_fraction_leaf=0.0, n_estimators=500,\n",
       "              presort='auto', random_state=None, subsample=1.0, verbose=0,\n",
       "              warm_start=False)"
      ]
     },
     "execution_count": 5,
     "metadata": {},
     "output_type": "execute_result"
    }
   ],
   "source": [
    "cv.best_estimator_"
   ]
  },
  {
   "cell_type": "markdown",
   "metadata": {},
   "source": [
    "### Write out pickled model"
   ]
  },
  {
   "cell_type": "code",
   "execution_count": 7,
   "metadata": {},
   "outputs": [
    {
     "data": {
      "text/plain": [
       "['../dataset/GB_model.pkl']"
      ]
     },
     "execution_count": 7,
     "metadata": {},
     "output_type": "execute_result"
    }
   ],
   "source": [
    "joblib.dump(cv.best_estimator_, '../dataset/GB_model.pkl')"
   ]
  },
  {
   "cell_type": "code",
   "execution_count": null,
   "metadata": {},
   "outputs": [],
   "source": []
  }
 ],
 "metadata": {
  "kernelspec": {
   "display_name": "Python 3",
   "language": "python",
   "name": "python3"
  },
  "language_info": {
   "codemirror_mode": {
    "name": "ipython",
    "version": 3
   },
   "file_extension": ".py",
   "mimetype": "text/x-python",
   "name": "python",
   "nbconvert_exporter": "python",
   "pygments_lexer": "ipython3",
   "version": "3.6.5"
  }
 },
 "nbformat": 4,
 "nbformat_minor": 2
}
